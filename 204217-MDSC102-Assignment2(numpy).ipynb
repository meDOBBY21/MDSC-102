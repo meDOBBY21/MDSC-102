{
  "nbformat": 4,
  "nbformat_minor": 0,
  "metadata": {
    "colab": {
      "provenance": [],
      "toc_visible": true,
      "authorship_tag": "ABX9TyNdG9tee1zAZTygExqWAgr/",
      "include_colab_link": true
    },
    "kernelspec": {
      "name": "python3",
      "display_name": "Python 3"
    },
    "language_info": {
      "name": "python"
    }
  },
  "cells": [
    {
      "cell_type": "markdown",
      "metadata": {
        "id": "view-in-github",
        "colab_type": "text"
      },
      "source": [
        "<a href=\"https://colab.research.google.com/github/meDOBBY21/MDSC-102/blob/main/204217-MDSC102-Assignment2(numpy).ipynb\" target=\"_parent\"><img src=\"https://colab.research.google.com/assets/colab-badge.svg\" alt=\"Open In Colab\"/></a>"
      ]
    },
    {
      "cell_type": "markdown",
      "source": [
        "#**numpy - Basics Notebook**\n",
        "\n",
        "---\n",
        "\n"
      ],
      "metadata": {
        "id": "KzmqbgHsHnax"
      }
    },
    {
      "cell_type": "markdown",
      "source": [
        "Importing numpy and creating an alias 'np' to make the numpy access easier"
      ],
      "metadata": {
        "id": "2mDB1KcPH9OA"
      }
    },
    {
      "cell_type": "code",
      "execution_count": 93,
      "metadata": {
        "id": "v63G03d4959r",
        "colab": {
          "base_uri": "https://localhost:8080/"
        },
        "outputId": "b251071e-6110-44b1-ce87-ae249475b24b"
      },
      "outputs": [
        {
          "output_type": "execute_result",
          "data": {
            "text/plain": [
              "array([1, 2, 2])"
            ]
          },
          "metadata": {},
          "execution_count": 93
        }
      ],
      "source": [
        "import numpy as np\n",
        "\n",
        "a=np.array([1,2,2])\n",
        "\n",
        "a\n"
      ]
    },
    {
      "cell_type": "markdown",
      "source": [
        "#Shape\n",
        "It will the shape of the array\n",
        "\n",
        "\n",
        "*   It will give inside array size if all inside arrays are of same size.\n",
        "\n",
        "\n",
        "\n"
      ],
      "metadata": {
        "id": "1t0VEmLUAGy8"
      }
    },
    {
      "cell_type": "code",
      "source": [
        "a.shape"
      ],
      "metadata": {
        "id": "D4YluQo0_9gA",
        "colab": {
          "base_uri": "https://localhost:8080/"
        },
        "outputId": "9bc56f0f-5433-4a5c-fdd9-9cf7cdd8a160"
      },
      "execution_count": 94,
      "outputs": [
        {
          "output_type": "execute_result",
          "data": {
            "text/plain": [
              "(3,)"
            ]
          },
          "metadata": {},
          "execution_count": 94
        }
      ]
    },
    {
      "cell_type": "code",
      "source": [
        "b=np.array([[1,2],[4]])\n",
        "\n",
        "b.shape"
      ],
      "metadata": {
        "id": "u3YSGs6fEIqK",
        "colab": {
          "base_uri": "https://localhost:8080/"
        },
        "outputId": "fc8d1798-b65d-4df6-83d8-4b53436b23a7"
      },
      "execution_count": 95,
      "outputs": [
        {
          "output_type": "stream",
          "name": "stderr",
          "text": [
            "<ipython-input-95-4f52e098b5af>:1: VisibleDeprecationWarning: Creating an ndarray from ragged nested sequences (which is a list-or-tuple of lists-or-tuples-or ndarrays with different lengths or shapes) is deprecated. If you meant to do this, you must specify 'dtype=object' when creating the ndarray.\n",
            "  b=np.array([[1,2],[4]])\n"
          ]
        },
        {
          "output_type": "execute_result",
          "data": {
            "text/plain": [
              "(2,)"
            ]
          },
          "metadata": {},
          "execution_count": 95
        }
      ]
    },
    {
      "cell_type": "markdown",
      "source": [],
      "metadata": {
        "id": "CQxlE0JTIU9T"
      }
    },
    {
      "cell_type": "code",
      "source": [
        "c=np.array([[[1,2,3],[4,5,6]],[[7,8,9],[0,1,2]]])\n",
        "\n",
        "c.shape"
      ],
      "metadata": {
        "id": "MAYiuEP8ESJS",
        "colab": {
          "base_uri": "https://localhost:8080/"
        },
        "outputId": "8643d610-07f5-4156-e0b5-2fb703615a37"
      },
      "execution_count": 96,
      "outputs": [
        {
          "output_type": "execute_result",
          "data": {
            "text/plain": [
              "(2, 2, 3)"
            ]
          },
          "metadata": {},
          "execution_count": 96
        }
      ]
    },
    {
      "cell_type": "markdown",
      "source": [
        "#Dimension\n",
        "It will give what Dimension the array is in."
      ],
      "metadata": {
        "id": "axMPyVGVC5WR"
      }
    },
    {
      "cell_type": "markdown",
      "source": [
        "For a n-dim array with different shapes,it considers inside arrays as single element.\n",
        "The reason we got 1"
      ],
      "metadata": {
        "id": "gLdnLhA1E5so"
      }
    },
    {
      "cell_type": "code",
      "source": [
        "b.ndim"
      ],
      "metadata": {
        "id": "mqa3gVVrEc_a",
        "colab": {
          "base_uri": "https://localhost:8080/"
        },
        "outputId": "cb16d9f5-03e7-470c-dfe9-948ccb79e4a1"
      },
      "execution_count": 97,
      "outputs": [
        {
          "output_type": "execute_result",
          "data": {
            "text/plain": [
              "1"
            ]
          },
          "metadata": {},
          "execution_count": 97
        }
      ]
    },
    {
      "cell_type": "markdown",
      "source": [
        "c is a 3-dim array as respective dimensions have equal number of elements."
      ],
      "metadata": {
        "id": "-XOYRJqXFT2I"
      }
    },
    {
      "cell_type": "code",
      "source": [
        "c.ndim"
      ],
      "metadata": {
        "id": "gu_4YAX0Dil8",
        "colab": {
          "base_uri": "https://localhost:8080/"
        },
        "outputId": "f46776c3-2bfe-4311-a650-4f1f247cdfae"
      },
      "execution_count": 98,
      "outputs": [
        {
          "output_type": "execute_result",
          "data": {
            "text/plain": [
              "3"
            ]
          },
          "metadata": {},
          "execution_count": 98
        }
      ]
    },
    {
      "cell_type": "markdown",
      "source": [
        "Creating n-dim array"
      ],
      "metadata": {
        "id": "soKmnLz5OTZL"
      }
    },
    {
      "cell_type": "code",
      "source": [
        "np.array([1,2],ndmin=5)"
      ],
      "metadata": {
        "id": "9cVs5F7LOSw1",
        "colab": {
          "base_uri": "https://localhost:8080/"
        },
        "outputId": "47d091a9-dd97-4155-8d0b-2f3383ba87a8"
      },
      "execution_count": 99,
      "outputs": [
        {
          "output_type": "execute_result",
          "data": {
            "text/plain": [
              "array([[[[[1, 2]]]]])"
            ]
          },
          "metadata": {},
          "execution_count": 99
        }
      ]
    },
    {
      "cell_type": "markdown",
      "source": [
        "#Accessing elemnts in n-dim array"
      ],
      "metadata": {
        "id": "hZmgAXQyGCQx"
      }
    },
    {
      "cell_type": "markdown",
      "source": [
        "With index"
      ],
      "metadata": {
        "id": "T5Gy97e7HVJA"
      }
    },
    {
      "cell_type": "code",
      "source": [
        "shape=c.shape\n",
        "\n",
        "for i in range(shape[0]):\n",
        "    for j in range(shape[1]):\n",
        "        for k in range(shape[2]):\n",
        "            print(c[i,j,k],end=\" \")\n",
        "        print()\n",
        "    print(\"--------\")\n",
        "\n",
        "\n"
      ],
      "metadata": {
        "id": "ZgM3VEsWGIXq",
        "colab": {
          "base_uri": "https://localhost:8080/"
        },
        "outputId": "fb737680-98fb-40e5-c02f-132d3900b43a"
      },
      "execution_count": 100,
      "outputs": [
        {
          "output_type": "stream",
          "name": "stdout",
          "text": [
            "1 2 3 \n",
            "4 5 6 \n",
            "--------\n",
            "7 8 9 \n",
            "0 1 2 \n",
            "--------\n"
          ]
        }
      ]
    },
    {
      "cell_type": "markdown",
      "source": [
        "Without index"
      ],
      "metadata": {
        "id": "D9EvZrojHYCG"
      }
    },
    {
      "cell_type": "code",
      "source": [
        "for rect in c:\n",
        "    for row in rect:\n",
        "        for ele in row:\n",
        "            print(ele,end=\" \")\n",
        "        print()\n",
        "    print(\"---------\")"
      ],
      "metadata": {
        "id": "UYxWR9N4HfWg",
        "colab": {
          "base_uri": "https://localhost:8080/"
        },
        "outputId": "3c6e7942-31b9-4d97-ac27-e9b0254da17b"
      },
      "execution_count": 101,
      "outputs": [
        {
          "output_type": "stream",
          "name": "stdout",
          "text": [
            "1 2 3 \n",
            "4 5 6 \n",
            "---------\n",
            "7 8 9 \n",
            "0 1 2 \n",
            "---------\n"
          ]
        }
      ]
    },
    {
      "cell_type": "markdown",
      "source": [
        "#dtype"
      ],
      "metadata": {
        "id": "QRkji266IgGq"
      }
    },
    {
      "cell_type": "markdown",
      "source": [
        "Cretating an array with specific datatype"
      ],
      "metadata": {
        "id": "aEeWCnYMJHah"
      }
    },
    {
      "cell_type": "markdown",
      "source": [
        "Creating complex numbers"
      ],
      "metadata": {
        "id": "DyHF0SL3JmZw"
      }
    },
    {
      "cell_type": "code",
      "source": [
        "np.array([1,2,-4],dtype=complex)"
      ],
      "metadata": {
        "id": "b8uMVsqAIfoh",
        "colab": {
          "base_uri": "https://localhost:8080/"
        },
        "outputId": "88b57086-cbdc-46b2-b4c5-d65c05a43fb3"
      },
      "execution_count": 102,
      "outputs": [
        {
          "output_type": "execute_result",
          "data": {
            "text/plain": [
              "array([ 1.+0.j,  2.+0.j, -4.+0.j])"
            ]
          },
          "metadata": {},
          "execution_count": 102
        }
      ]
    },
    {
      "cell_type": "markdown",
      "source": [
        "Creating str type"
      ],
      "metadata": {
        "id": "OZ-YrLsdJsLY"
      }
    },
    {
      "cell_type": "code",
      "source": [
        "np.array([1,2],dtype=str)"
      ],
      "metadata": {
        "id": "sxDqqCzTJrAT",
        "colab": {
          "base_uri": "https://localhost:8080/"
        },
        "outputId": "2d9cab52-dcb7-4529-b316-7188f67c56da"
      },
      "execution_count": 103,
      "outputs": [
        {
          "output_type": "execute_result",
          "data": {
            "text/plain": [
              "array(['1', '2'], dtype='<U1')"
            ]
          },
          "metadata": {},
          "execution_count": 103
        }
      ]
    },
    {
      "cell_type": "markdown",
      "source": [
        "#Zeros array"
      ],
      "metadata": {
        "id": "ztPtOzaiJzvE"
      }
    },
    {
      "cell_type": "markdown",
      "source": [
        "Creates an array with given dimensions keeping each element as 0"
      ],
      "metadata": {
        "id": "W3QLHIdDJ_R4"
      }
    },
    {
      "cell_type": "code",
      "source": [
        "np.zeros((3,4))"
      ],
      "metadata": {
        "id": "-Q9BtRGvJ2Jg",
        "colab": {
          "base_uri": "https://localhost:8080/"
        },
        "outputId": "0b1ca155-ae42-43fc-e05c-8397ced33a47"
      },
      "execution_count": 104,
      "outputs": [
        {
          "output_type": "execute_result",
          "data": {
            "text/plain": [
              "array([[0., 0., 0., 0.],\n",
              "       [0., 0., 0., 0.],\n",
              "       [0., 0., 0., 0.]])"
            ]
          },
          "metadata": {},
          "execution_count": 104
        }
      ]
    },
    {
      "cell_type": "markdown",
      "source": [
        "# Empty array (Random array)"
      ],
      "metadata": {
        "id": "YYDXWAimKwim"
      }
    },
    {
      "cell_type": "markdown",
      "source": [
        "Creates an array with given dimensions keeping each element with random value.\n",
        "\n",
        "**NOTE**:By default its float"
      ],
      "metadata": {
        "id": "6pA3N6FyLLj5"
      }
    },
    {
      "cell_type": "code",
      "source": [
        "a=np.empty((2,3))"
      ],
      "metadata": {
        "id": "slS9qHxbKyZJ"
      },
      "execution_count": 105,
      "outputs": []
    },
    {
      "cell_type": "markdown",
      "source": [
        "**Like**"
      ],
      "metadata": {
        "id": "3vQ-Yqc-LiQu"
      }
    },
    {
      "cell_type": "markdown",
      "source": [
        "ones_like : creates a array given a array with replacing elements with 1\n",
        "\n",
        "\n"
      ],
      "metadata": {
        "id": "uZ_psvWfMQAV"
      }
    },
    {
      "cell_type": "code",
      "source": [
        "np.ones_like(a)"
      ],
      "metadata": {
        "id": "J84I1c7SL1Fr",
        "colab": {
          "base_uri": "https://localhost:8080/"
        },
        "outputId": "c14b8e42-a030-4eab-c00c-8232e2019417"
      },
      "execution_count": 106,
      "outputs": [
        {
          "output_type": "execute_result",
          "data": {
            "text/plain": [
              "array([[1., 1., 1.],\n",
              "       [1., 1., 1.]])"
            ]
          },
          "metadata": {},
          "execution_count": 106
        }
      ]
    },
    {
      "cell_type": "markdown",
      "source": [
        "zeroes_like : creates a array given a array with replacing elements with 0"
      ],
      "metadata": {
        "id": "RYGRynCzM9nh"
      }
    },
    {
      "cell_type": "code",
      "source": [
        "np.zeros_like(a)"
      ],
      "metadata": {
        "id": "pXv4xp-xNFHn",
        "colab": {
          "base_uri": "https://localhost:8080/"
        },
        "outputId": "db64e207-5d8f-4197-af8c-6583166b6847"
      },
      "execution_count": 107,
      "outputs": [
        {
          "output_type": "execute_result",
          "data": {
            "text/plain": [
              "array([[0., 0., 0.],\n",
              "       [0., 0., 0.]])"
            ]
          },
          "metadata": {},
          "execution_count": 107
        }
      ]
    },
    {
      "cell_type": "markdown",
      "source": [
        "#Linspace"
      ],
      "metadata": {
        "id": "qn3MGBGgy7Cf"
      }
    },
    {
      "cell_type": "markdown",
      "source": [
        "Creates a series of specified number of numbers with given strat and end points."
      ],
      "metadata": {
        "id": "DFpIQKT_zSDm"
      }
    },
    {
      "cell_type": "code",
      "source": [
        "np.linspace(2,20,6)"
      ],
      "metadata": {
        "colab": {
          "base_uri": "https://localhost:8080/"
        },
        "id": "loiBCY01zATP",
        "outputId": "4f034b9a-4f58-4f5a-c92b-982d87d4a995"
      },
      "execution_count": 108,
      "outputs": [
        {
          "output_type": "execute_result",
          "data": {
            "text/plain": [
              "array([ 2. ,  5.6,  9.2, 12.8, 16.4, 20. ])"
            ]
          },
          "metadata": {},
          "execution_count": 108
        }
      ]
    },
    {
      "cell_type": "markdown",
      "source": [
        "we can also reshape in which ever shape we want"
      ],
      "metadata": {
        "id": "t5e6r5w0zhUT"
      }
    },
    {
      "cell_type": "code",
      "source": [
        "np.linspace(2,20,6).reshape(2,3)"
      ],
      "metadata": {
        "colab": {
          "base_uri": "https://localhost:8080/"
        },
        "id": "yZ--eFtfzmiL",
        "outputId": "932b6e74-7039-40c6-93a8-b98bacccb64f"
      },
      "execution_count": 109,
      "outputs": [
        {
          "output_type": "execute_result",
          "data": {
            "text/plain": [
              "array([[ 2. ,  5.6,  9.2],\n",
              "       [12.8, 16.4, 20. ]])"
            ]
          },
          "metadata": {},
          "execution_count": 109
        }
      ]
    },
    {
      "cell_type": "markdown",
      "source": [
        "#**MATRIX**"
      ],
      "metadata": {
        "id": "DbHrj60P0M2-"
      }
    },
    {
      "cell_type": "markdown",
      "source": [
        "Creating a matrix\n",
        "\n",
        "NOTE: use ' ( ' not  ' [ '"
      ],
      "metadata": {
        "id": "a1CGTxif0XaT"
      }
    },
    {
      "cell_type": "code",
      "source": [
        "mat=np.array(((2,3),(3,2)))\n",
        "mat"
      ],
      "metadata": {
        "colab": {
          "base_uri": "https://localhost:8080/"
        },
        "id": "POxNESK20ROY",
        "outputId": "9d6d0084-514a-47ad-cd5c-73bcb2dda4e3"
      },
      "execution_count": 110,
      "outputs": [
        {
          "output_type": "execute_result",
          "data": {
            "text/plain": [
              "array([[2, 3],\n",
              "       [3, 2]])"
            ]
          },
          "metadata": {},
          "execution_count": 110
        }
      ]
    },
    {
      "cell_type": "markdown",
      "source": [
        "Multiplication"
      ],
      "metadata": {
        "id": "qJLXx5yW01WG"
      }
    },
    {
      "cell_type": "code",
      "source": [
        "b=np.array(((1,0),(0,1)))\n",
        "np.matmul(mat,b)"
      ],
      "metadata": {
        "colab": {
          "base_uri": "https://localhost:8080/"
        },
        "id": "3XlXVSEL052-",
        "outputId": "0b57eb9e-8940-405f-dfb4-6ed7072e4509"
      },
      "execution_count": 111,
      "outputs": [
        {
          "output_type": "execute_result",
          "data": {
            "text/plain": [
              "array([[2, 3],\n",
              "       [3, 2]])"
            ]
          },
          "metadata": {},
          "execution_count": 111
        }
      ]
    },
    {
      "cell_type": "markdown",
      "source": [
        "Dot product"
      ],
      "metadata": {
        "id": "Smo3iQ6z1j5B"
      }
    },
    {
      "cell_type": "code",
      "source": [
        "np.dot(mat,b)"
      ],
      "metadata": {
        "colab": {
          "base_uri": "https://localhost:8080/"
        },
        "id": "Ov4XCPlc1B93",
        "outputId": "b9e20adf-5ffd-41ea-f392-115bbe187221"
      },
      "execution_count": 112,
      "outputs": [
        {
          "output_type": "execute_result",
          "data": {
            "text/plain": [
              "array([[2, 3],\n",
              "       [3, 2]])"
            ]
          },
          "metadata": {},
          "execution_count": 112
        }
      ]
    },
    {
      "cell_type": "markdown",
      "source": [
        "#Flatten and Ravel"
      ],
      "metadata": {
        "id": "DatfJpsg2GO-"
      }
    },
    {
      "cell_type": "markdown",
      "source": [
        "flatten creates a copy\n",
        "\n",
        "ravel creates a view"
      ],
      "metadata": {
        "id": "WplYXNSK2Li7"
      }
    },
    {
      "cell_type": "code",
      "source": [
        "a=mat.flatten()\n",
        "a"
      ],
      "metadata": {
        "colab": {
          "base_uri": "https://localhost:8080/"
        },
        "id": "Ai5NM4Dp2Nk-",
        "outputId": "71a20b16-3636-4bdb-ee53-2419c63236a1"
      },
      "execution_count": 113,
      "outputs": [
        {
          "output_type": "execute_result",
          "data": {
            "text/plain": [
              "array([2, 3, 3, 2])"
            ]
          },
          "metadata": {},
          "execution_count": 113
        }
      ]
    },
    {
      "cell_type": "code",
      "source": [
        "mat.ravel()"
      ],
      "metadata": {
        "colab": {
          "base_uri": "https://localhost:8080/"
        },
        "id": "NSordJfE2fO1",
        "outputId": "115004c0-1480-4ddf-acb2-481dc8017362"
      },
      "execution_count": 114,
      "outputs": [
        {
          "output_type": "execute_result",
          "data": {
            "text/plain": [
              "array([2, 3, 3, 2])"
            ]
          },
          "metadata": {},
          "execution_count": 114
        }
      ]
    },
    {
      "cell_type": "markdown",
      "source": [
        "Indexing and Slicing"
      ],
      "metadata": {
        "id": "x6-rn4ql4hb2"
      }
    },
    {
      "cell_type": "code",
      "source": [
        "a=np.linspace(1,100,15,dtype=int)\n",
        "a"
      ],
      "metadata": {
        "colab": {
          "base_uri": "https://localhost:8080/"
        },
        "id": "teMqUxDA4lha",
        "outputId": "d77d6d91-3f65-4297-b09e-90345d4b8098"
      },
      "execution_count": 115,
      "outputs": [
        {
          "output_type": "execute_result",
          "data": {
            "text/plain": [
              "array([  1,   8,  15,  22,  29,  36,  43,  50,  57,  64,  71,  78,  85,\n",
              "        92, 100])"
            ]
          },
          "metadata": {},
          "execution_count": 115
        }
      ]
    },
    {
      "cell_type": "code",
      "source": [
        "a[1:10:3]"
      ],
      "metadata": {
        "colab": {
          "base_uri": "https://localhost:8080/"
        },
        "id": "30h_g-Hq6neS",
        "outputId": "608a47a5-ab00-42da-cf54-e4d0282e37d8"
      },
      "execution_count": 116,
      "outputs": [
        {
          "output_type": "execute_result",
          "data": {
            "text/plain": [
              "array([ 8, 29, 50])"
            ]
          },
          "metadata": {},
          "execution_count": 116
        }
      ]
    },
    {
      "cell_type": "code",
      "source": [
        "a[2::2]"
      ],
      "metadata": {
        "colab": {
          "base_uri": "https://localhost:8080/"
        },
        "id": "BcXSmbpr6vaR",
        "outputId": "c968ac6f-0797-44bc-ae6b-a24d3eaa4ccb"
      },
      "execution_count": 117,
      "outputs": [
        {
          "output_type": "execute_result",
          "data": {
            "text/plain": [
              "array([ 15,  29,  43,  57,  71,  85, 100])"
            ]
          },
          "metadata": {},
          "execution_count": 117
        }
      ]
    },
    {
      "cell_type": "code",
      "source": [
        "a[::-5]"
      ],
      "metadata": {
        "colab": {
          "base_uri": "https://localhost:8080/"
        },
        "id": "q7MSdV8C6-Mq",
        "outputId": "eff43161-f0de-440a-f226-630c5f27952c"
      },
      "execution_count": 118,
      "outputs": [
        {
          "output_type": "execute_result",
          "data": {
            "text/plain": [
              "array([100,  64,  29])"
            ]
          },
          "metadata": {},
          "execution_count": 118
        }
      ]
    },
    {
      "cell_type": "code",
      "source": [
        "a=a.reshape(3,5)\n",
        "a"
      ],
      "metadata": {
        "colab": {
          "base_uri": "https://localhost:8080/"
        },
        "id": "2KVWJ8TN7AIy",
        "outputId": "44c346aa-3c92-4689-ef7f-309328fffb6d"
      },
      "execution_count": 119,
      "outputs": [
        {
          "output_type": "execute_result",
          "data": {
            "text/plain": [
              "array([[  1,   8,  15,  22,  29],\n",
              "       [ 36,  43,  50,  57,  64],\n",
              "       [ 71,  78,  85,  92, 100]])"
            ]
          },
          "metadata": {},
          "execution_count": 119
        }
      ]
    },
    {
      "cell_type": "code",
      "source": [
        "a[1:2:]"
      ],
      "metadata": {
        "colab": {
          "base_uri": "https://localhost:8080/"
        },
        "id": "2X-VufSu7OPN",
        "outputId": "d68df0a2-0a94-4067-af97-ba22f0628b3d"
      },
      "execution_count": 120,
      "outputs": [
        {
          "output_type": "execute_result",
          "data": {
            "text/plain": [
              "array([[36, 43, 50, 57, 64]])"
            ]
          },
          "metadata": {},
          "execution_count": 120
        }
      ]
    },
    {
      "cell_type": "code",
      "source": [
        "a[::-1]"
      ],
      "metadata": {
        "colab": {
          "base_uri": "https://localhost:8080/"
        },
        "id": "Zz_gQBpD7RWy",
        "outputId": "806c0ece-1823-4117-94bb-76156984e7d1"
      },
      "execution_count": 121,
      "outputs": [
        {
          "output_type": "execute_result",
          "data": {
            "text/plain": [
              "array([[ 71,  78,  85,  92, 100],\n",
              "       [ 36,  43,  50,  57,  64],\n",
              "       [  1,   8,  15,  22,  29]])"
            ]
          },
          "metadata": {},
          "execution_count": 121
        }
      ]
    },
    {
      "cell_type": "markdown",
      "source": [
        "#**MAX and MIN**"
      ],
      "metadata": {
        "id": "BjVoeMn87uYj"
      }
    },
    {
      "cell_type": "markdown",
      "source": [
        "argmin - gives the index of the min element after flattening.\n",
        "\n",
        "argmax -  gives the index of the max element after flattening."
      ],
      "metadata": {
        "id": "Q631OSXC8ZOZ"
      }
    },
    {
      "cell_type": "code",
      "source": [
        "np.argmax(a)"
      ],
      "metadata": {
        "colab": {
          "base_uri": "https://localhost:8080/"
        },
        "id": "aKsabNKn7xXz",
        "outputId": "36d1b9ef-6601-4d80-d2e3-875961a090f8"
      },
      "execution_count": 122,
      "outputs": [
        {
          "output_type": "execute_result",
          "data": {
            "text/plain": [
              "14"
            ]
          },
          "metadata": {},
          "execution_count": 122
        }
      ]
    },
    {
      "cell_type": "code",
      "source": [
        "np.argmin(a)"
      ],
      "metadata": {
        "colab": {
          "base_uri": "https://localhost:8080/"
        },
        "id": "we-fDbye8rzj",
        "outputId": "c9ca1689-08ec-4b0b-b8a2-aa89bb419c79"
      },
      "execution_count": 123,
      "outputs": [
        {
          "output_type": "execute_result",
          "data": {
            "text/plain": [
              "0"
            ]
          },
          "metadata": {},
          "execution_count": 123
        }
      ]
    },
    {
      "cell_type": "markdown",
      "source": [
        "max gives the max element in the array.\n",
        "\n",
        "min gives the min element in the array."
      ],
      "metadata": {
        "id": "GkZ3f6Sa8xhP"
      }
    },
    {
      "cell_type": "code",
      "source": [
        "a.max()"
      ],
      "metadata": {
        "colab": {
          "base_uri": "https://localhost:8080/"
        },
        "id": "0fcfrEKC8uKG",
        "outputId": "a70bbe06-d0a5-4911-fad9-a3a3b85ee7f0"
      },
      "execution_count": 124,
      "outputs": [
        {
          "output_type": "execute_result",
          "data": {
            "text/plain": [
              "100"
            ]
          },
          "metadata": {},
          "execution_count": 124
        }
      ]
    },
    {
      "cell_type": "markdown",
      "source": [
        "max can also give maxima in each coloumn and row"
      ],
      "metadata": {
        "id": "9668pds484Tv"
      }
    },
    {
      "cell_type": "code",
      "source": [
        "print(a.max(axis=1))\n",
        "print(a.max(axis=0))"
      ],
      "metadata": {
        "id": "8ni2rdpWJU_X",
        "colab": {
          "base_uri": "https://localhost:8080/"
        },
        "outputId": "6150f5cb-b41f-4bfe-9b88-185067aee959"
      },
      "execution_count": 125,
      "outputs": [
        {
          "output_type": "stream",
          "name": "stdout",
          "text": [
            "[ 29  64 100]\n",
            "[ 71  78  85  92 100]\n"
          ]
        }
      ]
    },
    {
      "cell_type": "markdown",
      "source": [
        "#**Sorting**"
      ],
      "metadata": {
        "id": "j7ua8zv0J2Rc"
      }
    },
    {
      "cell_type": "code",
      "source": [
        "b=np.array([4,1,8,-2,41])\n",
        "b.sort()\n",
        "b"
      ],
      "metadata": {
        "colab": {
          "base_uri": "https://localhost:8080/"
        },
        "id": "d-UtmZ26J1a0",
        "outputId": "86516011-f1ee-4b73-b6fb-d36fe7aa3a36"
      },
      "execution_count": 126,
      "outputs": [
        {
          "output_type": "execute_result",
          "data": {
            "text/plain": [
              "array([-2,  1,  4,  8, 41])"
            ]
          },
          "metadata": {},
          "execution_count": 126
        }
      ]
    },
    {
      "cell_type": "markdown",
      "source": [
        "Sorting elements along row"
      ],
      "metadata": {
        "id": "787pahzqKMXP"
      }
    },
    {
      "cell_type": "code",
      "source": [
        "a.sort()\n",
        "a"
      ],
      "metadata": {
        "colab": {
          "base_uri": "https://localhost:8080/"
        },
        "id": "qNpIQwZ-KP8l",
        "outputId": "796a8a94-98bc-4cc6-f6b8-97ed06d72e35"
      },
      "execution_count": 127,
      "outputs": [
        {
          "output_type": "execute_result",
          "data": {
            "text/plain": [
              "array([[  1,   8,  15,  22,  29],\n",
              "       [ 36,  43,  50,  57,  64],\n",
              "       [ 71,  78,  85,  92, 100]])"
            ]
          },
          "metadata": {},
          "execution_count": 127
        }
      ]
    },
    {
      "cell_type": "markdown",
      "source": [
        "Sorting can be done along coumn also"
      ],
      "metadata": {
        "id": "LDBJdk7OKbuB"
      }
    },
    {
      "cell_type": "code",
      "source": [
        "a.sort(axis=0)\n",
        "a"
      ],
      "metadata": {
        "colab": {
          "base_uri": "https://localhost:8080/"
        },
        "id": "u4cNV-G7KhMq",
        "outputId": "721bd7ea-483e-4163-a00e-dc59e37c38c7"
      },
      "execution_count": 128,
      "outputs": [
        {
          "output_type": "execute_result",
          "data": {
            "text/plain": [
              "array([[  1,   8,  15,  22,  29],\n",
              "       [ 36,  43,  50,  57,  64],\n",
              "       [ 71,  78,  85,  92, 100]])"
            ]
          },
          "metadata": {},
          "execution_count": 128
        }
      ]
    },
    {
      "cell_type": "markdown",
      "source": [
        "#**Maxima and Minina**"
      ],
      "metadata": {
        "id": "c2mVEo1JUarU"
      }
    },
    {
      "cell_type": "code",
      "source": [
        "a=np.sqrt(np.linspace(-2,2,4))"
      ],
      "metadata": {
        "colab": {
          "base_uri": "https://localhost:8080/"
        },
        "id": "0C3mfQVyTjMX",
        "outputId": "774dabe1-e973-43dd-e007-7e9222b1f1f8"
      },
      "execution_count": 130,
      "outputs": [
        {
          "output_type": "stream",
          "name": "stderr",
          "text": [
            "<ipython-input-130-59402d73a37e>:1: RuntimeWarning: invalid value encountered in sqrt\n",
            "  a=np.sqrt(np.linspace(-2,2,4))\n"
          ]
        }
      ]
    },
    {
      "cell_type": "markdown",
      "source": [
        "nanmx will find max among the numbers leaving nan vlaues"
      ],
      "metadata": {
        "id": "5hMOwRJgUrFs"
      }
    },
    {
      "cell_type": "code",
      "source": [
        "np.nanmax(a)"
      ],
      "metadata": {
        "colab": {
          "base_uri": "https://localhost:8080/"
        },
        "id": "HXnnqRzVT0bh",
        "outputId": "7f8a7b5a-d3f1-4c81-db6a-a98c46d1e2ab"
      },
      "execution_count": 131,
      "outputs": [
        {
          "output_type": "execute_result",
          "data": {
            "text/plain": [
              "1.4142135623730951"
            ]
          },
          "metadata": {},
          "execution_count": 131
        }
      ]
    },
    {
      "cell_type": "markdown",
      "source": [
        "#**Percentile**\n"
      ],
      "metadata": {
        "id": "QGH7oYtPU54O"
      }
    },
    {
      "cell_type": "markdown",
      "source": [
        "It is used to compute the value at a given percentile in an array."
      ],
      "metadata": {
        "id": "ZA94brpsWXnu"
      }
    },
    {
      "cell_type": "code",
      "source": [
        "a=np.array([[0,.6,1.2],[1.8,2.4,3.0]])\n",
        "a"
      ],
      "metadata": {
        "colab": {
          "base_uri": "https://localhost:8080/"
        },
        "id": "voiYgMOSU-H1",
        "outputId": "93e18fe2-3a18-43d4-d2e7-d18bc4eaf39d"
      },
      "execution_count": 133,
      "outputs": [
        {
          "output_type": "execute_result",
          "data": {
            "text/plain": [
              "array([[0. , 0.6, 1.2],\n",
              "       [1.8, 2.4, 3. ]])"
            ]
          },
          "metadata": {},
          "execution_count": 133
        }
      ]
    },
    {
      "cell_type": "code",
      "source": [
        "np.percentile(a,100)"
      ],
      "metadata": {
        "colab": {
          "base_uri": "https://localhost:8080/"
        },
        "id": "Jg4_9RQKVJy6",
        "outputId": "b9cb7407-24cb-41f8-a5b7-35385afb4f3c"
      },
      "execution_count": 137,
      "outputs": [
        {
          "output_type": "execute_result",
          "data": {
            "text/plain": [
              "2.25"
            ]
          },
          "metadata": {},
          "execution_count": 137
        }
      ]
    }
  ]
}